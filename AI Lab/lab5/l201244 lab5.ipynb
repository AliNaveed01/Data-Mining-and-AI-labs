{
 "cells": [
  {
   "cell_type": "code",
   "execution_count": 77,
   "metadata": {},
   "outputs": [],
   "source": [
    "import numpy as np\n",
    "import matplotlib.pyplot as plt\n",
    "import scipy.stats as stats\n",
    "import pandas as pd\n",
    "import random"
   ]
  },
  {
   "cell_type": "code",
   "execution_count": 78,
   "metadata": {},
   "outputs": [],
   "source": [
    "def fitness(solution):\n",
    "    n = len(solution)\n",
    "    threats = 0\n",
    "    for i in range(n):\n",
    "        for j in range(i+1, n):\n",
    "            if solution[i] == solution[j] or abs(solution[i] - solution[j]) == abs(i - j):\n",
    "                # threat: same row or same diagonal\n",
    "                threats += 1\n",
    "    return n*(n-1)//2 - threats # return the number of non-threats\n",
    "#here n is the number of queens and n-1 is the number of non-threats\n",
    "#and we are dividing by 2 because we are counting each pair twice"
   ]
  },
  {
   "cell_type": "code",
   "execution_count": 79,
   "metadata": {},
   "outputs": [],
   "source": [
    "#first generation\n",
    "def initialize_population(size, n):\n",
    "    population = []\n",
    "    for i in range(size):\n",
    "        solution = [random.randint(0, n-1) for j in range(n)] \n",
    "        population.append(solution) \n",
    "    return population"
   ]
  },
  {
   "cell_type": "code",
   "execution_count": 80,
   "metadata": {},
   "outputs": [],
   "source": [
    "def genetic_algorithm(n, size=100, max_generations=1000, crossover_prob=0.8, mutation_prob=0.1):\n",
    "    population = initialize_population(size, n)\n",
    "    best_solution = None\n",
    "    for generation in range(max_generations):\n",
    "        # Evaluate fitness\n",
    "        fitness_values = [fitness(solution) for solution in population]\n",
    "        # Find the best solution\n",
    "        best_index = fitness_values.index(max(fitness_values)) # the one with the highest fitness value\n",
    "        best_solution = population[best_index]\n",
    "        # Terminate if solution is found\n",
    "        if fitness(best_solution) == n*(n-1)//2:\n",
    "            break\n",
    "        # Selection\n",
    "        selection_prob = [fitness_values[i]/sum(fitness_values) for i in range(size)]\n",
    "        selected = random.choices(population, weights=selection_prob, k=size)\n",
    "        # Crossover\n",
    "        for i in range(0, size, 2):\n",
    "            if random.random() < crossover_prob:\n",
    "                crossover_point = random.randint(1, n-2)\n",
    "                selected[i][crossover_point:], selected[i+1][crossover_point:] = \\\n",
    "                    selected[i+1][crossover_point:], selected[i][crossover_point:]\n",
    "        # Mutation\n",
    "        for i in range(size):\n",
    "            if random.random() < mutation_prob:\n",
    "                mutation_point = random.randint(0, n-1)\n",
    "                selected[i][mutation_point] = random.randint(0, n-1)\n",
    "        # Update population\n",
    "        population = selected\n",
    "    return best_solution\n"
   ]
  },
  {
   "cell_type": "code",
   "execution_count": 81,
   "metadata": {},
   "outputs": [],
   "source": [
    "def print_board(solution):\n",
    "    n = len(solution)\n",
    "    board = np.zeros((n,n))\n",
    "    for i in range(n):\n",
    "        board[i][solution[i]] = 1\n",
    "    plt.imshow(board, cmap='binary')\n",
    "    plt.show()"
   ]
  },
  {
   "cell_type": "code",
   "execution_count": 82,
   "metadata": {},
   "outputs": [
    {
     "data": {
      "image/png": "[encoded data removed]",
      "text/plain": [
       "<Figure size 432x288 with 1 Axes>"
      ]
     },
     "metadata": {
      "needs_background": "light"
     },
     "output_type": "display_data"
    }
   ],
   "source": [
    "solution = genetic_algorithm(5)\n",
    "print_board(solution)"
   ]
  }
 ],
 "metadata": {
  "kernelspec": {
   "display_name": "Python 3",
   "language": "python",
   "name": "python3"
  },
  "language_info": {
   "codemirror_mode": {
    "name": "ipython",
    "version": 3
   },
   "file_extension": ".py",
   "mimetype": "text/x-python",
   "name": "python",
   "nbconvert_exporter": "python",
   "pygments_lexer": "ipython3",
   "version": "3.9.7"
  },
  "orig_nbformat": 4
 },
 "nbformat": 4,
 "nbformat_minor": 2
}
